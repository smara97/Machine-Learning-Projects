{
 "cells": [
  {
   "cell_type": "markdown",
   "metadata": {},
   "source": [
    "## Emojify!\n",
    "Welcome to the second assignment of Week 2. You are going to use word vector representations to build an Emojifier.\n",
    "\n",
    "Have you ever wanted to make your text messages more expressive? Your emojifier app will help you do that. So rather than writing \"Congratulations on the promotion! Lets get coffee and talk. Love you!\" the emojifier can automatically turn this into \"Congratulations on the promotion! 👍 Lets get coffee and talk. ☕️ Love you! ❤️\"\n",
    "\n",
    "You will implement a model which inputs a sentence (such as \"Let's go see the baseball game tonight!\") and finds the most appropriate emoji to be used with this sentence (⚾️). In many emoji interfaces, you need to remember that ❤️ is the \"heart\" symbol rather than the \"love\" symbol. But using word vectors, you'll see that even if your training set explicitly relates only a few words to a particular emoji, your algorithm will be able to generalize and associate words in the test set to the same emoji even if those words don't even appear in the training set. This allows you to build an accurate classifier mapping from sentences to emojis, even using a small training set.\n",
    "\n",
    "In this exercise, you'll start with a baseline model (Emojifier-V1) using word embeddings, then build a more sophisticated model (Emojifier-V2) that further incorporates an LSTM."
   ]
  },
  {
   "cell_type": "code",
   "execution_count": 1,
   "metadata": {},
   "outputs": [
    {
     "name": "stdout",
     "output_type": "stream",
     "text": [
      "Requirement already satisfied: emoji in /opt/conda/lib/python3.6/site-packages (0.5.4)\r\n",
      "Note: you may need to restart the kernel to use updated packages.\n"
     ]
    }
   ],
   "source": [
    "pip install emoji"
   ]
  },
  {
   "cell_type": "code",
   "execution_count": 2,
   "metadata": {},
   "outputs": [],
   "source": [
    "import numpy as np\n",
    "import pandas as pd\n",
    "import torch as torch\n",
    "import torch.nn as nn\n",
    "from torchvision import models\n",
    "from torch.autograd import Variable\n",
    "import matplotlib.pyplot as plt\n",
    "import emoji\n",
    "import os"
   ]
  },
  {
   "cell_type": "code",
   "execution_count": 3,
   "metadata": {},
   "outputs": [],
   "source": [
    "class myModel(nn.Module):\n",
    "    \n",
    "    def __init__(self,vocab_size,embedding_dim,pretrained_weight):\n",
    "        super(myModel,self).__init__()\n",
    "        self.word_embeds = nn.Embedding(vocab_size, embedding_dim)\n",
    "        pretrained_weight = np.array(pretrained_weight)\n",
    "        self.word_embeds.weight.data.copy_(torch.from_numpy(pretrained_weight))\n",
    "        self.rnn = nn.LSTM(embedding_dim, 128, 2,batch_first=True,dropout=0.5)\n",
    "        self.linear = nn.Linear(128,5)\n",
    "        self.out = nn.Softmax(dim=1)\n",
    "\n",
    "    def forward(self,x,h):\n",
    "        out = self.word_embeds(x)\n",
    "        out, _ = self.rnn(out,h)\n",
    "        out = out[:, -1, :]\n",
    "        out = self.linear(out)\n",
    "        out = self.out(out)\n",
    "        return out\n"
   ]
  },
  {
   "cell_type": "code",
   "execution_count": 4,
   "metadata": {},
   "outputs": [],
   "source": [
    "def read_glove_vecs(glove_file):\n",
    "    with open(glove_file, 'r',encoding='UTF-8') as f:\n",
    "        words = set()\n",
    "        word_to_vec_map = {}\n",
    "        for line in f:\n",
    "            line = line.strip().split()\n",
    "            curr_word = line[0]\n",
    "            words.add(curr_word)\n",
    "            word_to_vec_map[curr_word] = np.array(line[1:], dtype=np.float64)\n",
    "        \n",
    "        i = 1\n",
    "        words_to_index = {}\n",
    "        index_to_words = {}\n",
    "        for w in sorted(words):\n",
    "            words_to_index[w] = i\n",
    "            index_to_words[i] = w\n",
    "            i = i + 1\n",
    "    return words_to_index, index_to_words, word_to_vec_map\n"
   ]
  },
  {
   "cell_type": "code",
   "execution_count": 5,
   "metadata": {},
   "outputs": [],
   "source": [
    "def sentences_to_indices(X, word_to_index, max_len):\n",
    "    m = X.shape[0]\n",
    "    X_indices = np.zeros((m, max_len))\n",
    "    for i in range(m):\n",
    "        sentence_words = X[i].lower().split()\n",
    "        j = 0\n",
    "        for w in sentence_words:\n",
    "            X_indices[i, j] = int(word_to_index[w])\n",
    "            j = j + 1\n",
    "    return X_indices"
   ]
  },
  {
   "cell_type": "code",
   "execution_count": 6,
   "metadata": {},
   "outputs": [],
   "source": [
    "def pretrained_embedding_layer(word_to_vec_map, word_to_index):\n",
    "    vocab_len = len(word_to_index) + 1  #word index begin with 1,plus 1 for padding 0\n",
    "    emb_dim = word_to_vec_map[\"cucumber\"].shape[0]\n",
    "    emb_matrix = np.zeros((vocab_len, emb_dim))\n",
    "    for word, index in word_to_index.items():\n",
    "        emb_matrix[index, :] = word_to_vec_map[word]\n",
    "    return emb_matrix"
   ]
  },
  {
   "cell_type": "code",
   "execution_count": 7,
   "metadata": {},
   "outputs": [],
   "source": [
    "def convert_to_one_hot(Y, C):\n",
    "    Y = np.eye(C)[Y.reshape(-1)]\n",
    "    return Y"
   ]
  },
  {
   "cell_type": "code",
   "execution_count": 8,
   "metadata": {},
   "outputs": [],
   "source": [
    "word_to_index, index_to_word, word_to_vec_map = read_glove_vecs('../input/clovefile/glove.6B.50d.txt')"
   ]
  },
  {
   "cell_type": "code",
   "execution_count": 9,
   "metadata": {},
   "outputs": [],
   "source": [
    "training_data=pd.read_csv('../input/emojifydata/train_emoji.csv')\n",
    "test_data=pd.read_csv('../input/emojifydata/tesss.csv')"
   ]
  },
  {
   "cell_type": "code",
   "execution_count": 10,
   "metadata": {},
   "outputs": [],
   "source": [
    "train_x,train_y=training_data.iloc[:,0],training_data.iloc[:,1]\n",
    "test_x,test_y=test_data.iloc[:,0],test_data.iloc[:,1]"
   ]
  },
  {
   "cell_type": "code",
   "execution_count": 11,
   "metadata": {},
   "outputs": [],
   "source": [
    "emoji_dictionary = {\"0\": \"\\u2764\\uFE0F\",   \n",
    "                    \"1\": \":baseball:\",\n",
    "                    \"2\": \":smile:\",\n",
    "                    \"3\": \":disappointed:\",\n",
    "                    \"4\": \":fork_and_knife:\"}"
   ]
  },
  {
   "cell_type": "code",
   "execution_count": 12,
   "metadata": {},
   "outputs": [
    {
     "name": "stdout",
     "output_type": "stream",
     "text": [
      "Example of Trining Data \n",
      "Sentence is : I love you mum ,Emoji is : ❤️\n"
     ]
    }
   ],
   "source": [
    "print(\"Example of Trining Data \")\n",
    "print(\"Sentence is : {} ,Emoji is : {}\".format(train_x.iloc[4],emoji.emojize(emoji_dictionary[str(train_y.iloc[4])],use_aliases=True)))"
   ]
  },
  {
   "cell_type": "code",
   "execution_count": 13,
   "metadata": {},
   "outputs": [],
   "source": [
    "train_x=train_x.to_numpy()\n",
    "test_x=test_x.to_numpy()\n",
    "train_y=train_y.to_numpy()\n",
    "test_y=test_y.to_numpy()"
   ]
  },
  {
   "cell_type": "code",
   "execution_count": 14,
   "metadata": {},
   "outputs": [],
   "source": [
    "y_hot_train=convert_to_one_hot(train_y,5)\n",
    "y_hot_test=convert_to_one_hot(test_y,5)"
   ]
  },
  {
   "cell_type": "code",
   "execution_count": 15,
   "metadata": {},
   "outputs": [
    {
     "name": "stdout",
     "output_type": "stream",
     "text": [
      "0 is converted into one hot [1. 0. 0. 0. 0.]\n"
     ]
    }
   ],
   "source": [
    "print(train_y[4], \"is converted into one hot\", y_hot_train[4])"
   ]
  },
  {
   "cell_type": "code",
   "execution_count": 16,
   "metadata": {},
   "outputs": [
    {
     "name": "stdout",
     "output_type": "stream",
     "text": [
      "10\n"
     ]
    }
   ],
   "source": [
    "max_len = len(max(train_x, key=len).split())\n",
    "print(max_len)"
   ]
  },
  {
   "cell_type": "code",
   "execution_count": 17,
   "metadata": {},
   "outputs": [],
   "source": [
    "train_indces=sentences_to_indices(train_x, word_to_index, max_len)\n",
    "test_indces=sentences_to_indices(test_x, word_to_index, max_len)"
   ]
  },
  {
   "cell_type": "code",
   "execution_count": 18,
   "metadata": {},
   "outputs": [],
   "source": [
    "train_xtensor = torch.from_numpy(train_indces)\n",
    "trainlab = torch.tensor(train_y) \n",
    "train_tensor = torch.utils.data.TensorDataset(train_xtensor, trainlab)\n",
    "\n",
    "test_xtensor = torch.from_numpy(test_indces)\n",
    "testlab = torch.tensor(test_y) \n",
    "test_tensor = torch.utils.data.TensorDataset(test_xtensor, testlab)"
   ]
  },
  {
   "cell_type": "code",
   "execution_count": 19,
   "metadata": {},
   "outputs": [],
   "source": [
    "train_loader=torch.utils.data.DataLoader(dataset=train_tensor,batch_size=20,shuffle=True, num_workers=0)\n",
    "test_loader=torch.utils.data.DataLoader(dataset=test_tensor,batch_size=20,shuffle=True, num_workers=0)"
   ]
  },
  {
   "cell_type": "code",
   "execution_count": 20,
   "metadata": {},
   "outputs": [],
   "source": [
    "vocab_len = len(word_to_index) + 1\n",
    "emb_matrix = pretrained_embedding_layer(word_to_vec_map, word_to_index)\n",
    "model = myModel(vocab_len,50,emb_matrix)"
   ]
  },
  {
   "cell_type": "code",
   "execution_count": 21,
   "metadata": {},
   "outputs": [],
   "source": [
    "for param in model.parameters():\n",
    "    param.requires_grad = True\n",
    "    \n",
    "\n",
    "model = model.cuda()\n",
    "\n",
    "loss_func = nn.CrossEntropyLoss()\n",
    "\n",
    "optimizer1 = torch.optim.Adam(model.rnn.parameters(),lr=0.0003)\n",
    "optimizer2 = torch.optim.Adam(model.linear.parameters(),lr=0.0003)"
   ]
  },
  {
   "cell_type": "code",
   "execution_count": 22,
   "metadata": {},
   "outputs": [
    {
     "name": "stdout",
     "output_type": "stream",
     "text": [
      "Epoch 50......\n",
      "Training Accuracy : 77.8626 Training Loss 8.0366\n",
      "Validation Accuracy : 67.2727 Validation Loss 3.7081\n",
      "Epoch 100......\n",
      "Training Accuracy : 92.3664 Training Loss 7.0029\n",
      "Validation Accuracy : 74.5455 Validation Loss 3.5033\n",
      "Epoch 150......\n",
      "Training Accuracy : 95.4198 Training Loss 6.6447\n",
      "Validation Accuracy : 72.7273 Validation Loss 3.4868\n",
      "Epoch 200......\n",
      "Training Accuracy : 96.1832 Training Loss 6.5781\n",
      "Validation Accuracy : 74.5455 Validation Loss 3.5028\n",
      "Epoch 250......\n",
      "Training Accuracy : 96.1832 Training Loss 6.6506\n",
      "Validation Accuracy : 76.3636 Validation Loss 3.3919\n",
      "Epoch 300......\n",
      "Training Accuracy : 90.0763 Training Loss 6.9758\n",
      "Validation Accuracy : 69.0909 Validation Loss 3.6539\n",
      "Epoch 350......\n",
      "Training Accuracy : 96.9466 Training Loss 6.5329\n",
      "Validation Accuracy : 80.0000 Validation Loss 3.2933\n",
      "Epoch 400......\n",
      "Training Accuracy : 96.9466 Training Loss 6.5737\n",
      "Validation Accuracy : 78.1818 Validation Loss 3.3445\n",
      "Epoch 450......\n",
      "Training Accuracy : 96.9466 Training Loss 6.5346\n",
      "Validation Accuracy : 80.0000 Validation Loss 3.3436\n",
      "Epoch 500......\n",
      "Training Accuracy : 96.9466 Training Loss 6.5309\n",
      "Validation Accuracy : 78.1818 Validation Loss 3.3677\n",
      "Epoch 550......\n",
      "Training Accuracy : 96.9466 Training Loss 6.5321\n",
      "Validation Accuracy : 78.1818 Validation Loss 3.3862\n",
      "Epoch 600......\n",
      "Training Accuracy : 96.9466 Training Loss 6.5273\n",
      "Validation Accuracy : 78.1818 Validation Loss 3.4010\n",
      "Epoch 650......\n",
      "Training Accuracy : 97.7099 Training Loss 6.5030\n",
      "Validation Accuracy : 76.3636 Validation Loss 3.5231\n",
      "Epoch 700......\n",
      "Training Accuracy : 98.4733 Training Loss 6.4446\n",
      "Validation Accuracy : 83.6364 Validation Loss 3.2239\n",
      "Epoch 750......\n",
      "Training Accuracy : 98.4733 Training Loss 6.4365\n",
      "Validation Accuracy : 81.8182 Validation Loss 3.2666\n",
      "Epoch 800......\n",
      "Training Accuracy : 98.4733 Training Loss 6.4351\n",
      "Validation Accuracy : 81.8182 Validation Loss 3.2744\n",
      "Epoch 850......\n",
      "Training Accuracy : 98.4733 Training Loss 6.4343\n",
      "Validation Accuracy : 81.8182 Validation Loss 3.3070\n",
      "Epoch 900......\n",
      "Training Accuracy : 98.4733 Training Loss 6.4341\n",
      "Validation Accuracy : 83.6364 Validation Loss 3.1970\n"
     ]
    }
   ],
   "source": [
    "min_valid=np.Inf\n",
    "train_acc,valid_acc=[],[]\n",
    "train_losses,valid_losses=[],[]\n",
    "for epoch in range(900):\n",
    "    model.train()\n",
    "    running=0\n",
    "    train_accuracy=0\n",
    "    for data,target in train_loader:\n",
    "        data = data.long()\n",
    "        target = target.long()\n",
    "        model.zero_grad()\n",
    "        states = (Variable(torch.zeros(2, len(data), 128)).cuda(), Variable(torch.zeros(2, len(data), 128)).cuda())\n",
    "        data = Variable(data).cuda()\n",
    "        target = Variable(target).cuda()\n",
    "        output = model(data,states)\n",
    "        loss = loss_func(output,target)\n",
    "        loss.backward()\n",
    "        optimizer1.step()\n",
    "        optimizer2.step()\n",
    "        running+=loss.item()\n",
    "        target=target.cpu().numpy()\n",
    "        output=output.cpu().detach().numpy()\n",
    "        for i in range(len(data)):\n",
    "            num=np.argmax(output[i])\n",
    "            if num==target[i]:\n",
    "                train_accuracy+=1\n",
    "    else:\n",
    "        with torch.no_grad():\n",
    "            model.eval()\n",
    "            test_accuracy=0\n",
    "            valid_loss=0\n",
    "            for data1,target1 in test_loader:\n",
    "                data1 = Variable(data1.long()).cuda()\n",
    "                target1 = Variable(target1.long()).cuda()\n",
    "                target1=target1.long()\n",
    "                states = (Variable(torch.zeros(2, len(data1), 128)).cuda(), Variable(torch.zeros(2, len(data1), 128)).cuda())\n",
    "                pred = model(data1,states)\n",
    "                loss = loss_func(pred,target1)\n",
    "                valid_loss+=loss.item()\n",
    "                target1=target1.cpu().numpy()\n",
    "                pred=pred.cpu().numpy()\n",
    "                for i in range(len(data1)):\n",
    "                    num=np.argmax(pred[i])\n",
    "                    if num==target1[i]:\n",
    "                        test_accuracy+=1\n",
    "            test_accuracy/=len(test_xtensor)\n",
    "            train_accuracy/=len(train_xtensor)\n",
    "            if valid_loss<min_valid:\n",
    "                min_valid=valid_loss\n",
    "                torch.save(model.state_dict(),\"emojify.pkl\")\n",
    "                \n",
    "    \n",
    "    if (epoch+1)%50==0:\n",
    "        print(\"Epoch {}......\".format(epoch+1))\n",
    "        print(\"Training Accuracy : {:.4f} Training Loss {:.4f}\".format(train_accuracy*100.0,running))\n",
    "        print(\"Validation Accuracy : {:.4f} Validation Loss {:.4f}\".format(test_accuracy*100.0,valid_loss))\n",
    "        train_losses.append(running)\n",
    "        train_acc.append(train_accuracy)\n",
    "        valid_losses.append(valid_loss)\n",
    "        valid_acc.append(test_accuracy)\n",
    "   "
   ]
  },
  {
   "cell_type": "code",
   "execution_count": 23,
   "metadata": {},
   "outputs": [
    {
     "data": {
      "text/plain": [
       "<matplotlib.legend.Legend at 0x7f1769b07f60>"
      ]
     },
     "execution_count": 23,
     "metadata": {},
     "output_type": "execute_result"
    },
    {
     "data": {
      "image/png": "[encoded data removed]",
      "text/plain": [
       "<Figure size 720x432 with 2 Axes>"
      ]
     },
     "metadata": {
      "needs_background": "light"
     },
     "output_type": "display_data"
    }
   ],
   "source": [
    "fig, (ax1, ax2) = plt.subplots(1, 2, figsize=(10, 6))\n",
    "ax1.plot(train_losses,label='Training Loss')\n",
    "ax1.plot(valid_losses,label='Validation Loss')\n",
    "\n",
    "ax1.legend(frameon=False)\n",
    "\n",
    "ax2.plot(train_acc,label='Training Accuracy')\n",
    "ax2.plot(valid_acc,label='Validation Accuracy')\n",
    "\n",
    "ax2.legend(frameon=False)"
   ]
  },
  {
   "cell_type": "code",
   "execution_count": 24,
   "metadata": {},
   "outputs": [
    {
     "data": {
      "text/plain": [
       "<All keys matched successfully>"
      ]
     },
     "execution_count": 24,
     "metadata": {},
     "output_type": "execute_result"
    }
   ],
   "source": [
    "model.load_state_dict(torch.load(\"emojify.pkl\"))"
   ]
  },
  {
   "cell_type": "code",
   "execution_count": 25,
   "metadata": {},
   "outputs": [
    {
     "name": "stdout",
     "output_type": "stream",
     "text": [
      " prediction: not feeling happy 😞\n",
      " prediction: Holy shit 😄\n",
      " prediction: you are so pretty 😞\n",
      " prediction: let us play ball ⚾\n"
     ]
    }
   ],
   "source": [
    "x_test = np.array(['not feeling happy', 'Holy shit', 'you are so pretty', 'let us play ball'])\n",
    "X_test_indices = sentences_to_indices(x_test, word_to_index, 10)\n",
    "X_test_indices = torch.from_numpy(X_test_indices)\n",
    "X_test_indices = Variable(X_test_indices.long()).cuda()\n",
    "states = (Variable(torch.zeros(2, 4, 128)).cuda(), Variable(torch.zeros(2, 4, 128)).cuda())\n",
    "pred = model(X_test_indices,states)\n",
    "pred=pred.cpu()\n",
    "for i in range(len(x_test)):\n",
    "    num = np.argmax(pred.data[i])\n",
    "    print(' prediction: ' + x_test[i] + ' '+emoji.emojize(emoji_dictionary[str(num.item())],use_aliases=True))"
   ]
  },
  {
   "cell_type": "code",
   "execution_count": 26,
   "metadata": {},
   "outputs": [
    {
     "ename": "StdinNotImplementedError",
     "evalue": "raw_input was called, but this frontend does not support input requests.",
     "output_type": "error",
     "traceback": [
      "\u001b[0;31m---------------------------------------------------------------------------\u001b[0m",
      "\u001b[0;31mStdinNotImplementedError\u001b[0m                  Traceback (most recent call last)",
      "\u001b[0;32m<ipython-input-26-f99826995a92>\u001b[0m in \u001b[0;36m<module>\u001b[0;34m\u001b[0m\n\u001b[1;32m      1\u001b[0m \u001b[0;32mwhile\u001b[0m \u001b[0;32mTrue\u001b[0m\u001b[0;34m:\u001b[0m\u001b[0;34m\u001b[0m\u001b[0m\n\u001b[0;32m----> 2\u001b[0;31m     \u001b[0mst\u001b[0m\u001b[0;34m=\u001b[0m\u001b[0minput\u001b[0m\u001b[0;34m(\u001b[0m\u001b[0;34m)\u001b[0m\u001b[0;34m\u001b[0m\u001b[0m\n\u001b[0m\u001b[1;32m      3\u001b[0m     \u001b[0mX_test_indices\u001b[0m \u001b[0;34m=\u001b[0m \u001b[0msentences_to_indices\u001b[0m\u001b[0;34m(\u001b[0m\u001b[0mnp\u001b[0m\u001b[0;34m.\u001b[0m\u001b[0marray\u001b[0m\u001b[0;34m(\u001b[0m\u001b[0;34m[\u001b[0m\u001b[0mst\u001b[0m\u001b[0;34m]\u001b[0m\u001b[0;34m)\u001b[0m\u001b[0;34m,\u001b[0m \u001b[0mword_to_index\u001b[0m\u001b[0;34m,\u001b[0m \u001b[0;36m10\u001b[0m\u001b[0;34m)\u001b[0m\u001b[0;34m\u001b[0m\u001b[0m\n\u001b[1;32m      4\u001b[0m     \u001b[0mX_test_indices\u001b[0m \u001b[0;34m=\u001b[0m \u001b[0mtorch\u001b[0m\u001b[0;34m.\u001b[0m\u001b[0mfrom_numpy\u001b[0m\u001b[0;34m(\u001b[0m\u001b[0mX_test_indices\u001b[0m\u001b[0;34m)\u001b[0m\u001b[0;34m\u001b[0m\u001b[0m\n\u001b[1;32m      5\u001b[0m     \u001b[0mX_test_indices\u001b[0m \u001b[0;34m=\u001b[0m \u001b[0mVariable\u001b[0m\u001b[0;34m(\u001b[0m\u001b[0mX_test_indices\u001b[0m\u001b[0;34m.\u001b[0m\u001b[0mlong\u001b[0m\u001b[0;34m(\u001b[0m\u001b[0;34m)\u001b[0m\u001b[0;34m)\u001b[0m\u001b[0;34m.\u001b[0m\u001b[0mcuda\u001b[0m\u001b[0;34m(\u001b[0m\u001b[0;34m)\u001b[0m\u001b[0;34m\u001b[0m\u001b[0m\n",
      "\u001b[0;32m/opt/conda/lib/python3.6/site-packages/ipykernel/kernelbase.py\u001b[0m in \u001b[0;36mraw_input\u001b[0;34m(self, prompt)\u001b[0m\n\u001b[1;32m    853\u001b[0m         \u001b[0;32mif\u001b[0m \u001b[0;32mnot\u001b[0m \u001b[0mself\u001b[0m\u001b[0;34m.\u001b[0m\u001b[0m_allow_stdin\u001b[0m\u001b[0;34m:\u001b[0m\u001b[0;34m\u001b[0m\u001b[0m\n\u001b[1;32m    854\u001b[0m             raise StdinNotImplementedError(\n\u001b[0;32m--> 855\u001b[0;31m                 \u001b[0;34m\"raw_input was called, but this frontend does not support input requests.\"\u001b[0m\u001b[0;34m\u001b[0m\u001b[0m\n\u001b[0m\u001b[1;32m    856\u001b[0m             )\n\u001b[1;32m    857\u001b[0m         return self._input_request(str(prompt),\n",
      "\u001b[0;31mStdinNotImplementedError\u001b[0m: raw_input was called, but this frontend does not support input requests."
     ]
    }
   ],
   "source": [
    "while True:\n",
    "    st=input()\n",
    "    X_test_indices = sentences_to_indices(np.array([st]), word_to_index, 10)\n",
    "    X_test_indices = torch.from_numpy(X_test_indices)\n",
    "    X_test_indices = Variable(X_test_indices.long()).cuda()\n",
    "    states = (Variable(torch.zeros(2, 1, 128)).cuda(), Variable(torch.zeros(2, 1, 128)).cuda())\n",
    "    pred = model(X_test_indices,states)\n",
    "    pred=pred.cpu()\n",
    "    num = np.argmax(pred.data)\n",
    "    print(' prediction: ' + st + ' '+emoji.emojize(emoji_dictionary[str(num.item())],use_aliases=True))\n",
    "    print(\"Again?\")\n",
    "    retry=input()\n",
    "    if retry==\"no\":\n",
    "        break"
   ]
  },
  {
   "cell_type": "code",
   "execution_count": null,
   "metadata": {},
   "outputs": [],
   "source": []
  }
 ],
 "metadata": {
  "kernelspec": {
   "display_name": "Python 3",
   "language": "python",
   "name": "python3"
  },
  "language_info": {
   "codemirror_mode": {
    "name": "ipython",
    "version": 3
   },
   "file_extension": ".py",
   "mimetype": "text/x-python",
   "name": "python",
   "nbconvert_exporter": "python",
   "pygments_lexer": "ipython3",
   "version": "3.6.6"
  }
 },
 "nbformat": 4,
 "nbformat_minor": 1
}
