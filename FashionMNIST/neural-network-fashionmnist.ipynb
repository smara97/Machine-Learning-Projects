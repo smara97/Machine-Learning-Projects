{
 "cells": [
  {
   "cell_type": "code",
   "execution_count": 1,
   "metadata": {},
   "outputs": [],
   "source": [
    "import torch \n",
    "import numpy as np\n",
    "import pandas as pd\n",
    "import matplotlib.pyplot as plt\n",
    "from torchvision import datasets,transforms\n",
    "import torch.nn.functional as F\n",
    "from torch import nn,optim"
   ]
  },
  {
   "cell_type": "code",
   "execution_count": 2,
   "metadata": {},
   "outputs": [],
   "source": [
    "#Generate Transform to Imgaes\n",
    "transform=transforms.Compose([transforms.ToTensor(),transforms.Normalize((0.1307,), (0.3081,)),])"
   ]
  },
  {
   "cell_type": "code",
   "execution_count": 3,
   "metadata": {},
   "outputs": [
    {
     "name": "stderr",
     "output_type": "stream",
     "text": [
      "0it [00:00, ?it/s]"
     ]
    },
    {
     "name": "stdout",
     "output_type": "stream",
     "text": [
      "Downloading http://fashion-mnist.s3-website.eu-central-1.amazonaws.com/train-images-idx3-ubyte.gz to /tmp/.pytorch/FashionMNIST_data/FashionMNIST/raw/train-images-idx3-ubyte.gz\n"
     ]
    },
    {
     "name": "stderr",
     "output_type": "stream",
     "text": [
      "26427392it [00:01, 14613990.41it/s]                             \n"
     ]
    },
    {
     "name": "stdout",
     "output_type": "stream",
     "text": [
      "Extracting /tmp/.pytorch/FashionMNIST_data/FashionMNIST/raw/train-images-idx3-ubyte.gz\n"
     ]
    },
    {
     "name": "stderr",
     "output_type": "stream",
     "text": [
      "0it [00:00, ?it/s]"
     ]
    },
    {
     "name": "stdout",
     "output_type": "stream",
     "text": [
      "Downloading http://fashion-mnist.s3-website.eu-central-1.amazonaws.com/train-labels-idx1-ubyte.gz to /tmp/.pytorch/FashionMNIST_data/FashionMNIST/raw/train-labels-idx1-ubyte.gz\n"
     ]
    },
    {
     "name": "stderr",
     "output_type": "stream",
     "text": [
      "32768it [00:00, 82287.84it/s]            \n",
      "0it [00:00, ?it/s]"
     ]
    },
    {
     "name": "stdout",
     "output_type": "stream",
     "text": [
      "Extracting /tmp/.pytorch/FashionMNIST_data/FashionMNIST/raw/train-labels-idx1-ubyte.gz\n",
      "Downloading http://fashion-mnist.s3-website.eu-central-1.amazonaws.com/t10k-images-idx3-ubyte.gz to /tmp/.pytorch/FashionMNIST_data/FashionMNIST/raw/t10k-images-idx3-ubyte.gz\n"
     ]
    },
    {
     "name": "stderr",
     "output_type": "stream",
     "text": [
      "4423680it [00:01, 3825426.32it/s]                             \n",
      "0it [00:00, ?it/s]"
     ]
    },
    {
     "name": "stdout",
     "output_type": "stream",
     "text": [
      "Extracting /tmp/.pytorch/FashionMNIST_data/FashionMNIST/raw/t10k-images-idx3-ubyte.gz\n",
      "Downloading http://fashion-mnist.s3-website.eu-central-1.amazonaws.com/t10k-labels-idx1-ubyte.gz to /tmp/.pytorch/FashionMNIST_data/FashionMNIST/raw/t10k-labels-idx1-ubyte.gz\n"
     ]
    },
    {
     "name": "stderr",
     "output_type": "stream",
     "text": [
      "8192it [00:00, 31818.20it/s]            "
     ]
    },
    {
     "name": "stdout",
     "output_type": "stream",
     "text": [
      "Extracting /tmp/.pytorch/FashionMNIST_data/FashionMNIST/raw/t10k-labels-idx1-ubyte.gz\n",
      "Processing...\n",
      "Done!\n"
     ]
    },
    {
     "name": "stderr",
     "output_type": "stream",
     "text": [
      "\n"
     ]
    }
   ],
   "source": [
    "#Load the train data and test data\n",
    "trainset=datasets.FashionMNIST('~/.pytorch/FashionMNIST_data/',train=True,download=True,transform=transform)\n",
    "testset=datasets.FashionMNIST('~/.pytorch/FashionMNIST_data/',train=False,download=True,transform=transform)"
   ]
  },
  {
   "cell_type": "code",
   "execution_count": 4,
   "metadata": {},
   "outputs": [],
   "source": [
    "#Make a Data Loader for every trainset and testset\n",
    "trainloader=torch.utils.data.DataLoader(trainset,batch_size=64,shuffle=True)\n",
    "testloader=torch.utils.data.DataLoader(testset,batch_size=64,shuffle=True)"
   ]
  },
  {
   "cell_type": "code",
   "execution_count": 5,
   "metadata": {},
   "outputs": [],
   "source": [
    "#Take batch of images and labels\n",
    "images,labels=next(iter(trainloader))"
   ]
  },
  {
   "cell_type": "code",
   "execution_count": 6,
   "metadata": {},
   "outputs": [
    {
     "name": "stdout",
     "output_type": "stream",
     "text": [
      "torch.Size([64, 1, 28, 28])\n"
     ]
    }
   ],
   "source": [
    "#Imgaes shapes\n",
    "print(images.shape)"
   ]
  },
  {
   "cell_type": "code",
   "execution_count": 7,
   "metadata": {},
   "outputs": [],
   "source": [
    "#Encode the 10's labels of images\n",
    "clothing = {0 : 'T-shirt/top',\n",
    "            1 : 'Trouser',\n",
    "            2 : 'Pullover',\n",
    "            3 : 'Dress',\n",
    "            4 : 'Coat',\n",
    "            5 : 'Sandal',\n",
    "            6 : 'Shirt',\n",
    "            7 : 'Sneaker',\n",
    "            8 : 'Bag',\n",
    "            9 : 'Ankle boot'}"
   ]
  },
  {
   "cell_type": "code",
   "execution_count": 8,
   "metadata": {},
   "outputs": [
    {
     "data": {
      "image/png": "[encoded data removed]",
      "text/plain": [
       "<Figure size 432x288 with 3 Axes>"
      ]
     },
     "execution_count": 8,
     "metadata": {},
     "output_type": "execute_result"
    },
    {
     "data": {
      "image/png": "[encoded data removed]",
      "text/plain": [
       "<Figure size 432x288 with 3 Axes>"
      ]
     },
     "metadata": {},
     "output_type": "display_data"
    }
   ],
   "source": [
    "#Visualize and Explore data\n",
    "\n",
    "fig = plt.figure()\n",
    "for i in range(3):\n",
    "  plt.subplot(2,3,i+1)\n",
    "  plt.tight_layout()\n",
    "  plt.imshow(images[i][0], cmap='gray', interpolation='none')\n",
    "  plt.title(\"Ground Truth: {}\".format(clothing[int(labels[i])]))\n",
    "  plt.xticks([])\n",
    "  plt.yticks([])\n",
    "fig\n"
   ]
  },
  {
   "cell_type": "code",
   "execution_count": 9,
   "metadata": {},
   "outputs": [],
   "source": [
    "class NeuralNetwork(nn.Module):\n",
    "    def __init__(self):\n",
    "        super().__init__()\n",
    "        #Creat 4 Hidden Layers\n",
    "        self.fc1=nn.Linear(784,256)\n",
    "        self.fc2=nn.Linear(256,128)\n",
    "        self.fc3=nn.Linear(128,64)\n",
    "        self.fc4=nn.Linear(64,10)\n",
    "        \n",
    "        #Dropout Layers\n",
    "        self.dropout=nn.Dropout(p=0.5)\n",
    "    def forward(self,x):\n",
    "        #Flatten Images\n",
    "        x=x.view(x.shape[0],-1)\n",
    "        \n",
    "        x=self.dropout(F.relu(self.fc1(x)))\n",
    "        x=self.dropout(F.relu(self.fc2(x)))\n",
    "        x=self.dropout(F.relu(self.fc3(x)))\n",
    "        \n",
    "        x=F.log_softmax(self.fc4(x),dim=1)\n",
    "        \n",
    "        return x\n",
    "        "
   ]
  },
  {
   "cell_type": "code",
   "execution_count": 10,
   "metadata": {},
   "outputs": [
    {
     "name": "stdout",
     "output_type": "stream",
     "text": [
      "NeuralNetwork(\n",
      "  (fc1): Linear(in_features=784, out_features=256, bias=True)\n",
      "  (fc2): Linear(in_features=256, out_features=128, bias=True)\n",
      "  (fc3): Linear(in_features=128, out_features=64, bias=True)\n",
      "  (fc4): Linear(in_features=64, out_features=10, bias=True)\n",
      "  (dropout): Dropout(p=0.5)\n",
      ")\n"
     ]
    }
   ],
   "source": [
    "model=NeuralNetwork()\n",
    "print(model)"
   ]
  },
  {
   "cell_type": "code",
   "execution_count": 11,
   "metadata": {},
   "outputs": [],
   "source": [
    "optimizer=optim.Adam(model.parameters(),lr=0.0003)\n",
    "crit=nn.NLLLoss()"
   ]
  },
  {
   "cell_type": "code",
   "execution_count": 12,
   "metadata": {},
   "outputs": [
    {
     "name": "stdout",
     "output_type": "stream",
     "text": [
      "Epoch: 1/30 Training Loss 0.9269101620991347 Testing Loss 0.5137743353843689 Accuracy 0.8151870965957642\n",
      "Epoch: 2/30 Training Loss 0.5729608162760988 Testing Loss 0.4516920745372772 Accuracy 0.837082028388977\n",
      "Epoch: 3/30 Training Loss 0.5063786835495089 Testing Loss 0.4176439344882965 Accuracy 0.8490246534347534\n",
      "Epoch: 4/30 Training Loss 0.47512755581120186 Testing Loss 0.3970528542995453 Accuracy 0.8555931448936462\n",
      "Epoch: 5/30 Training Loss 0.45291440385872367 Testing Loss 0.3865434229373932 Accuracy 0.8631568551063538\n",
      "Epoch: 6/30 Training Loss 0.4334244651040797 Testing Loss 0.3734833896160126 Accuracy 0.8654458522796631\n",
      "Epoch: 7/30 Training Loss 0.4235663628463806 Testing Loss 0.37201938033103943 Accuracy 0.8684315085411072\n",
      "Epoch: 8/30 Training Loss 0.4095298026495778 Testing Loss 0.3819897770881653 Accuracy 0.8644506335258484\n",
      "Epoch: 9/30 Training Loss 0.3979092789357151 Testing Loss 0.36634960770606995 Accuracy 0.8666401505470276\n",
      "Epoch: 10/30 Training Loss 0.39215235590045133 Testing Loss 0.3518487513065338 Accuracy 0.8726114630699158\n",
      "Epoch: 11/30 Training Loss 0.38321888424567324 Testing Loss 0.35769063234329224 Accuracy 0.8707205653190613\n",
      "Epoch: 12/30 Training Loss 0.37488422661956183 Testing Loss 0.3491217792034149 Accuracy 0.8730095624923706\n",
      "Epoch: 13/30 Training Loss 0.37043726718279596 Testing Loss 0.3423321843147278 Accuracy 0.878284215927124\n",
      "Epoch: 14/30 Training Loss 0.36275494483106935 Testing Loss 0.34528157114982605 Accuracy 0.8783837556838989\n",
      "Epoch: 15/30 Training Loss 0.3568485908941038 Testing Loss 0.34258514642715454 Accuracy 0.8776870965957642\n",
      "Epoch: 16/30 Training Loss 0.3522660439329615 Testing Loss 0.34817972779273987 Accuracy 0.8769904375076294\n",
      "Epoch: 17/30 Training Loss 0.34917068069201035 Testing Loss 0.3415772616863251 Accuracy 0.8781847357749939\n",
      "Epoch: 18/30 Training Loss 0.34165556333276 Testing Loss 0.35024723410606384 Accuracy 0.8773885369300842\n",
      "Epoch: 19/30 Training Loss 0.34021062133853625 Testing Loss 0.3444027304649353 Accuracy 0.8738057613372803\n",
      "Epoch: 20/30 Training Loss 0.33370832698558694 Testing Loss 0.33690303564071655 Accuracy 0.8806727528572083\n",
      "Epoch: 21/30 Training Loss 0.3371909332078403 Testing Loss 0.3378828465938568 Accuracy 0.8803741931915283\n",
      "Epoch: 22/30 Training Loss 0.3321890079898875 Testing Loss 0.3302900791168213 Accuracy 0.8819665312767029\n",
      "Epoch: 23/30 Training Loss 0.32781414860791996 Testing Loss 0.3343517780303955 Accuracy 0.8831608295440674\n",
      "Epoch: 24/30 Training Loss 0.32297624520528545 Testing Loss 0.3281019926071167 Accuracy 0.8814689517021179\n",
      "Epoch: 25/30 Training Loss 0.3192402470721873 Testing Loss 0.33719927072525024 Accuracy 0.881667971611023\n",
      "Epoch: 26/30 Training Loss 0.31516604034154655 Testing Loss 0.3344831168651581 Accuracy 0.8836584687232971\n",
      "Epoch: 27/30 Training Loss 0.31463382679865814 Testing Loss 0.3276245594024658 Accuracy 0.8843550682067871\n",
      "Epoch: 28/30 Training Loss 0.31295007863628077 Testing Loss 0.3290144205093384 Accuracy 0.8825637102127075\n",
      "Epoch: 29/30 Training Loss 0.30832757507718955 Testing Loss 0.33092576265335083 Accuracy 0.8830612897872925\n",
      "Epoch: 30/30 Training Loss 0.30614508405677293 Testing Loss 0.336769163608551 Accuracy 0.883957028388977\n"
     ]
    }
   ],
   "source": [
    "#Train Data\n",
    "\n",
    "epochs=30\n",
    "step=0\n",
    "train_losses,test_losses,accu=[],[],[]\n",
    "for i in range(epochs):\n",
    "    running_loss=0\n",
    "    for images,labels in trainloader:\n",
    "        optimizer.zero_grad()\n",
    "        logps=model(images)\n",
    "        loss=crit(logps,labels)\n",
    "        loss.backward()\n",
    "        optimizer.step()\n",
    "        running_loss+=loss.item()\n",
    "    else:\n",
    "        test_loss=0\n",
    "        accuracy=0\n",
    "        \n",
    "        #Turn off gradient for validation ,saves momery and computation\n",
    "        \n",
    "        with torch.no_grad():\n",
    "            model.eval()\n",
    "            for images,labels in testloader:\n",
    "                logps=model(images)\n",
    "                test_loss+=crit(logps,labels)\n",
    "                ps=torch.exp(logps)\n",
    "                topp,topc=ps.topk(1,dim=1)\n",
    "                equal=topc==labels.view(*topc.shape)\n",
    "                accuracy+=torch.mean(equal.type(torch.FloatTensor))\n",
    "        model.train()\n",
    "        \n",
    "        train_losses.append(running_loss/len(trainloader))\n",
    "        test_losses.append(test_loss/len(testloader))\n",
    "        accu.append(accuracy)\n",
    "        \n",
    "        print(\"Epoch: {}/{}\".format(i+1,epochs),\n",
    "        \"Training Loss {}\".format(running_loss/len(trainloader)),\n",
    "        \"Testing Loss {}\".format(test_loss/len(testloader)),\n",
    "        \"Accuracy {}\".format(accuracy/len(testloader)))"
   ]
  },
  {
   "cell_type": "code",
   "execution_count": 13,
   "metadata": {},
   "outputs": [
    {
     "data": {
      "text/plain": [
       "<matplotlib.legend.Legend at 0x7f4944577358>"
      ]
     },
     "execution_count": 13,
     "metadata": {},
     "output_type": "execute_result"
    },
    {
     "data": {
      "image/png": "[encoded data removed]",
      "text/plain": [
       "<Figure size 432x288 with 1 Axes>"
      ]
     },
     "metadata": {
      "image/png": {
       "height": 250,
       "width": 373
      },
      "needs_background": "light"
     },
     "output_type": "display_data"
    }
   ],
   "source": [
    "%matplotlib inline\n",
    "%config InlineBackend.figure_format='retina'\n",
    "plt.plot(train_losses,label='Traning Loss')\n",
    "plt.plot(test_losses,label='Validation Loss')\n",
    "plt.legend(frameon=False)"
   ]
  },
  {
   "cell_type": "code",
   "execution_count": null,
   "metadata": {},
   "outputs": [],
   "source": []
  }
 ],
 "metadata": {
  "kernelspec": {
   "display_name": "Python 3",
   "language": "python",
   "name": "python3"
  },
  "language_info": {
   "codemirror_mode": {
    "name": "ipython",
    "version": 3
   },
   "file_extension": ".py",
   "mimetype": "text/x-python",
   "name": "python",
   "nbconvert_exporter": "python",
   "pygments_lexer": "ipython3",
   "version": "3.6.6"
  }
 },
 "nbformat": 4,
 "nbformat_minor": 1
}
