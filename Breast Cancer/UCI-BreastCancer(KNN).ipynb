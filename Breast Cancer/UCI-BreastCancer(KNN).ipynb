{
 "cells": [
  {
   "cell_type": "code",
   "execution_count": 333,
   "metadata": {},
   "outputs": [],
   "source": [
    "import numpy as np\n",
    "import pandas as pd\n",
    "import matplotlib.pyplot as plt\n",
    "import random\n",
    "%matplotlib inline"
   ]
  },
  {
   "cell_type": "code",
   "execution_count": 334,
   "metadata": {},
   "outputs": [],
   "source": [
    "col=['ID','Clump_Thickness','Uniformity_of_Cell_Size','Uniformity_of_Cell_Shape','Marginal_Adhesion','Single_Epithelial_Cell_Size','Bare_Nuclei','Bland_Chromatin','Normal_Nucleoli','Mitoses','Class']\n",
    "df=pd.read_csv(\"Desktop/breast-cancer-wisconsin.data\")\n",
    "df.columns=col\n",
    "df.replace('?',-99999,inplace=True)\n",
    "np.random.seed(42)\n",
    "df=df.sample(frac=1,random_state=44)"
   ]
  },
  {
   "cell_type": "code",
   "execution_count": 335,
   "metadata": {},
   "outputs": [
    {
     "name": "stdout",
     "output_type": "stream",
     "text": [
      "                                266\n",
      "ID                           320675\n",
      "Clump_Thickness                   3\n",
      "Uniformity_of_Cell_Size           3\n",
      "Uniformity_of_Cell_Shape          5\n",
      "Marginal_Adhesion                 2\n",
      "Single_Epithelial_Cell_Size       3\n",
      "Bare_Nuclei                      10\n",
      "Bland_Chromatin                   7\n",
      "Normal_Nucleoli                   1\n",
      "Mitoses                           1\n",
      "Class                             4\n"
     ]
    }
   ],
   "source": [
    "print(df.head(1).T)"
   ]
  },
  {
   "cell_type": "code",
   "execution_count": 336,
   "metadata": {},
   "outputs": [],
   "source": [
    "df=df.drop(['ID'],axis=1)"
   ]
  },
  {
   "cell_type": "code",
   "execution_count": 337,
   "metadata": {},
   "outputs": [
    {
     "data": {
      "text/plain": [
       "Clump_Thickness                 int64\n",
       "Uniformity_of_Cell_Size         int64\n",
       "Uniformity_of_Cell_Shape        int64\n",
       "Marginal_Adhesion               int64\n",
       "Single_Epithelial_Cell_Size     int64\n",
       "Bare_Nuclei                    object\n",
       "Bland_Chromatin                 int64\n",
       "Normal_Nucleoli                 int64\n",
       "Mitoses                         int64\n",
       "Class                           int64\n",
       "dtype: object"
      ]
     },
     "execution_count": 337,
     "metadata": {},
     "output_type": "execute_result"
    }
   ],
   "source": [
    "df.isnull().any().sum()    #not exist any null data\n",
    "df.dtypes"
   ]
  },
  {
   "cell_type": "code",
   "execution_count": 338,
   "metadata": {},
   "outputs": [
    {
     "data": {
      "image/png": "[encoded data removed]",
      "text/plain": [
       "<Figure size 432x288 with 1 Axes>"
      ]
     },
     "metadata": {},
     "output_type": "display_data"
    }
   ],
   "source": [
    "label=['benign','malignant']\n",
    "df.Class.value_counts()\n",
    "size=[457,241]\n",
    "\n",
    "explode = (0, 0)  # only \"explode\" the 2nd slice (i.e. 'Hogs')\n",
    "\n",
    "fig1, ax1 = plt.subplots()\n",
    "ax1.pie(size, explode=explode, labels=label, autopct='%1.1f%%',\n",
    "        shadow=True, startangle=90)\n",
    "ax1.axis('equal')  # Equal aspect ratio ensures that pie is drawn as a circle.\n",
    "plt.title(\"Breast Cancer\")\n",
    "plt.show()\n"
   ]
  },
  {
   "cell_type": "code",
   "execution_count": 339,
   "metadata": {},
   "outputs": [
    {
     "name": "stdout",
     "output_type": "stream",
     "text": [
      "The Shape of Train Data (558, 9)\n",
      "The Shape of Label-train Data (558, 1)\n",
      "The Shape of Test Data (140, 9)\n",
      "The Shape of Label-test Data (140, 1)\n"
     ]
    }
   ],
   "source": [
    "X=df.iloc[:,:9]\n",
    "Y=df.iloc[:,9:10]\n",
    "xtrain=X.iloc[:(X.shape[0]-140),:]\n",
    "ytrain=Y.iloc[:Y.shape[0]-140,:]\n",
    "xtest=X.iloc[X.shape[0]-140:,:]\n",
    "ytest=Y.iloc[Y.shape[0]-140:,:]\n",
    "print(\"The Shape of Train Data\",xtrain.shape)\n",
    "print(\"The Shape of Label-train Data\",ytrain.shape)\n",
    "print(\"The Shape of Test Data\",xtest.shape)\n",
    "print(\"The Shape of Label-test Data\",ytest.shape)"
   ]
  },
  {
   "cell_type": "code",
   "execution_count": 340,
   "metadata": {},
   "outputs": [],
   "source": [
    "class KNeighborsClassifier:\n",
    "    \n",
    "    def __init__(self):\n",
    "        pass\n",
    "    \n",
    "    def fit(self,X,Y):\n",
    "        self.xtr=X\n",
    "        self.xtr=self.xtr.astype(float)\n",
    "        self.ytr=Y\n",
    "        self.ytr=self.ytr.astype(float)\n",
    "        \n",
    "    def predict(self,EX):\n",
    "        \n",
    "        num_test=EX.shape[0]\n",
    "        ypred=pd.DataFrame()\n",
    "        ypred=ypred.astype(float)\n",
    "        EX=EX.astype(float)\n",
    "        for i in range(num_test):\n",
    "            distance=[]\n",
    "            for j in range(self.xtr.shape[0]):\n",
    "                distance.append(np.sqrt(np.sum(np.abs(self.xtr.iloc[j,:]-EX.iloc[i,:])**2)))\n",
    "            min_index=np.argmin(distance)\n",
    "            ypred=ypred.append(self.ytr.iloc[min_index,:])\n",
    "            \n",
    "        return ypred\n",
    "    def score(self,ytest,ypred):\n",
    "        total=0\n",
    "        goal=0\n",
    "        ypred=ypred.astype(float)\n",
    "        ytest=ytest.astype(float) \n",
    "        for i in range(ytest.shape[0]):\n",
    "            if ytest.iloc[i,0]==ypred.iloc[i,0]:\n",
    "                goal+=1\n",
    "            total+=1\n",
    "        return goal/total\n",
    "    "
   ]
  },
  {
   "cell_type": "code",
   "execution_count": 341,
   "metadata": {},
   "outputs": [],
   "source": [
    "knn=KNeighborsClassifier()"
   ]
  },
  {
   "cell_type": "code",
   "execution_count": 342,
   "metadata": {},
   "outputs": [],
   "source": [
    "knn.fit(xtrain,ytrain)"
   ]
  },
  {
   "cell_type": "code",
   "execution_count": 343,
   "metadata": {},
   "outputs": [],
   "source": [
    "ypred=knn.predict(xtest)"
   ]
  },
  {
   "cell_type": "code",
   "execution_count": 346,
   "metadata": {},
   "outputs": [
    {
     "name": "stdout",
     "output_type": "stream",
     "text": [
      "The Actual Data is malignant and The Predict Data is benign\n",
      "The Actual Data is benign and The Predict Data is benign\n",
      "The Actual Data is malignant and The Predict Data is malignant\n",
      "The Actual Data is benign and The Predict Data is benign\n",
      "The Actual Data is benign and The Predict Data is benign\n",
      "The Actual Data is benign and The Predict Data is benign\n",
      "The Actual Data is benign and The Predict Data is benign\n",
      "The Actual Data is benign and The Predict Data is benign\n",
      "The Actual Data is benign and The Predict Data is benign\n",
      "The Actual Data is benign and The Predict Data is benign\n",
      "The Actual Data is benign and The Predict Data is benign\n",
      "The Actual Data is benign and The Predict Data is benign\n",
      "The Actual Data is malignant and The Predict Data is malignant\n",
      "The Actual Data is benign and The Predict Data is benign\n",
      "The Actual Data is benign and The Predict Data is benign\n",
      "The Actual Data is benign and The Predict Data is benign\n",
      "The Actual Data is benign and The Predict Data is benign\n",
      "The Actual Data is benign and The Predict Data is benign\n",
      "The Actual Data is benign and The Predict Data is benign\n",
      "The Actual Data is benign and The Predict Data is benign\n",
      "The Actual Data is malignant and The Predict Data is malignant\n",
      "The Actual Data is malignant and The Predict Data is malignant\n",
      "The Actual Data is malignant and The Predict Data is malignant\n",
      "The Actual Data is malignant and The Predict Data is malignant\n",
      "The Actual Data is malignant and The Predict Data is malignant\n",
      "The Actual Data is benign and The Predict Data is benign\n",
      "The Actual Data is benign and The Predict Data is benign\n",
      "The Actual Data is malignant and The Predict Data is malignant\n",
      "The Actual Data is benign and The Predict Data is benign\n",
      "The Actual Data is benign and The Predict Data is benign\n",
      "The Actual Data is benign and The Predict Data is benign\n",
      "The Actual Data is malignant and The Predict Data is malignant\n",
      "The Actual Data is benign and The Predict Data is benign\n",
      "The Actual Data is malignant and The Predict Data is malignant\n",
      "The Actual Data is benign and The Predict Data is benign\n",
      "The Actual Data is benign and The Predict Data is benign\n",
      "The Actual Data is benign and The Predict Data is benign\n",
      "The Actual Data is benign and The Predict Data is benign\n",
      "The Actual Data is benign and The Predict Data is benign\n",
      "The Actual Data is benign and The Predict Data is benign\n",
      "The Actual Data is benign and The Predict Data is benign\n",
      "The Actual Data is benign and The Predict Data is benign\n",
      "The Actual Data is benign and The Predict Data is benign\n",
      "The Actual Data is malignant and The Predict Data is malignant\n",
      "The Actual Data is benign and The Predict Data is benign\n",
      "The Actual Data is benign and The Predict Data is benign\n",
      "The Actual Data is benign and The Predict Data is benign\n",
      "The Actual Data is malignant and The Predict Data is malignant\n",
      "The Actual Data is benign and The Predict Data is benign\n",
      "The Actual Data is malignant and The Predict Data is malignant\n",
      "The Actual Data is benign and The Predict Data is benign\n",
      "The Actual Data is benign and The Predict Data is benign\n",
      "The Actual Data is malignant and The Predict Data is malignant\n",
      "The Actual Data is benign and The Predict Data is benign\n",
      "The Actual Data is benign and The Predict Data is benign\n",
      "The Actual Data is benign and The Predict Data is benign\n",
      "The Actual Data is benign and The Predict Data is benign\n",
      "The Actual Data is malignant and The Predict Data is malignant\n",
      "The Actual Data is benign and The Predict Data is benign\n",
      "The Actual Data is malignant and The Predict Data is malignant\n",
      "The Actual Data is malignant and The Predict Data is malignant\n",
      "The Actual Data is malignant and The Predict Data is malignant\n",
      "The Actual Data is malignant and The Predict Data is benign\n",
      "The Actual Data is benign and The Predict Data is benign\n",
      "The Actual Data is malignant and The Predict Data is malignant\n",
      "The Actual Data is malignant and The Predict Data is malignant\n",
      "The Actual Data is malignant and The Predict Data is malignant\n",
      "The Actual Data is benign and The Predict Data is benign\n",
      "The Actual Data is benign and The Predict Data is benign\n",
      "The Actual Data is benign and The Predict Data is benign\n",
      "The Actual Data is benign and The Predict Data is benign\n",
      "The Actual Data is benign and The Predict Data is benign\n",
      "The Actual Data is benign and The Predict Data is benign\n",
      "The Actual Data is malignant and The Predict Data is malignant\n",
      "The Actual Data is benign and The Predict Data is benign\n",
      "The Actual Data is benign and The Predict Data is benign\n",
      "The Actual Data is malignant and The Predict Data is malignant\n",
      "The Actual Data is benign and The Predict Data is benign\n",
      "The Actual Data is malignant and The Predict Data is malignant\n",
      "The Actual Data is malignant and The Predict Data is malignant\n",
      "The Actual Data is malignant and The Predict Data is malignant\n",
      "The Actual Data is malignant and The Predict Data is malignant\n",
      "The Actual Data is malignant and The Predict Data is malignant\n",
      "The Actual Data is benign and The Predict Data is benign\n",
      "The Actual Data is malignant and The Predict Data is malignant\n",
      "The Actual Data is benign and The Predict Data is benign\n",
      "The Actual Data is benign and The Predict Data is benign\n",
      "The Actual Data is benign and The Predict Data is benign\n",
      "The Actual Data is benign and The Predict Data is benign\n",
      "The Actual Data is benign and The Predict Data is benign\n",
      "The Actual Data is benign and The Predict Data is benign\n",
      "The Actual Data is malignant and The Predict Data is malignant\n",
      "The Actual Data is benign and The Predict Data is benign\n",
      "The Actual Data is benign and The Predict Data is benign\n",
      "The Actual Data is benign and The Predict Data is benign\n",
      "The Actual Data is benign and The Predict Data is benign\n",
      "The Actual Data is benign and The Predict Data is benign\n",
      "The Actual Data is benign and The Predict Data is benign\n",
      "The Actual Data is benign and The Predict Data is benign\n",
      "The Actual Data is benign and The Predict Data is benign\n",
      "The Actual Data is malignant and The Predict Data is malignant\n",
      "The Actual Data is malignant and The Predict Data is malignant\n",
      "The Actual Data is malignant and The Predict Data is malignant\n",
      "The Actual Data is benign and The Predict Data is benign\n",
      "The Actual Data is benign and The Predict Data is benign\n",
      "The Actual Data is malignant and The Predict Data is malignant\n",
      "The Actual Data is malignant and The Predict Data is malignant\n",
      "The Actual Data is benign and The Predict Data is benign\n",
      "The Actual Data is benign and The Predict Data is benign\n",
      "The Actual Data is malignant and The Predict Data is malignant\n",
      "The Actual Data is benign and The Predict Data is benign\n",
      "The Actual Data is benign and The Predict Data is benign\n",
      "The Actual Data is benign and The Predict Data is benign\n",
      "The Actual Data is malignant and The Predict Data is malignant\n",
      "The Actual Data is malignant and The Predict Data is benign\n",
      "The Actual Data is benign and The Predict Data is benign\n",
      "The Actual Data is malignant and The Predict Data is malignant\n",
      "The Actual Data is benign and The Predict Data is benign\n",
      "The Actual Data is benign and The Predict Data is benign\n",
      "The Actual Data is malignant and The Predict Data is malignant\n",
      "The Actual Data is benign and The Predict Data is benign\n",
      "The Actual Data is malignant and The Predict Data is malignant\n",
      "The Actual Data is benign and The Predict Data is benign\n",
      "The Actual Data is malignant and The Predict Data is benign\n",
      "The Actual Data is benign and The Predict Data is benign\n",
      "The Actual Data is malignant and The Predict Data is malignant\n",
      "The Actual Data is benign and The Predict Data is benign\n",
      "The Actual Data is benign and The Predict Data is benign\n",
      "The Actual Data is benign and The Predict Data is benign\n",
      "The Actual Data is benign and The Predict Data is benign\n",
      "The Actual Data is benign and The Predict Data is benign\n",
      "The Actual Data is benign and The Predict Data is benign\n",
      "The Actual Data is malignant and The Predict Data is malignant\n",
      "The Actual Data is malignant and The Predict Data is malignant\n",
      "The Actual Data is benign and The Predict Data is benign\n",
      "The Actual Data is malignant and The Predict Data is malignant\n",
      "The Actual Data is benign and The Predict Data is benign\n",
      "The Actual Data is benign and The Predict Data is benign\n",
      "The Actual Data is malignant and The Predict Data is malignant\n",
      "The Actual Data is benign and The Predict Data is benign\n",
      "The Accuracy of Model is  97.14285714285714 %\n"
     ]
    }
   ],
   "source": [
    "change={\"2\":\"benign\",\"4\":\"malignant\"}\n",
    "for i in range(ytest.shape[0]):\n",
    "    \n",
    "    str1,str2=\"\",\"\"\n",
    "    \n",
    "    if ytest.iloc[i,0]==4:\n",
    "        str1=change[\"4\"]\n",
    "    else :\n",
    "        str1=change[\"2\"]\n",
    "    \n",
    "    if ypred.iloc[i,0]==4:\n",
    "        str2=change[\"4\"]\n",
    "    else :\n",
    "        str2=change[\"2\"]\n",
    "    \n",
    "    print(\"The Actual Data is {} and The Predict Data is {}\".format(str1,str2))\n",
    "print(\"The Accuracy of Model is \",knn.score(ytest,ypred)*100.0,\"%\")"
   ]
  },
  {
   "cell_type": "code",
   "execution_count": null,
   "metadata": {},
   "outputs": [],
   "source": []
  }
 ],
 "metadata": {
  "kernelspec": {
   "display_name": "Python 3",
   "language": "python",
   "name": "python3"
  },
  "language_info": {
   "codemirror_mode": {
    "name": "ipython",
    "version": 3
   },
   "file_extension": ".py",
   "mimetype": "text/x-python",
   "name": "python",
   "nbconvert_exporter": "python",
   "pygments_lexer": "ipython3",
   "version": "3.6.8"
  }
 },
 "nbformat": 4,
 "nbformat_minor": 2
}
